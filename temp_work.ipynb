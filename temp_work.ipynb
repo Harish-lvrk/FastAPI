{
 "cells": [
  {
   "cell_type": "code",
   "execution_count": 1,
   "id": "71610754",
   "metadata": {},
   "outputs": [
    {
     "name": "stdout",
     "output_type": "stream",
     "text": [
      "/media/rgukt/data/FastAPI/venv/bin/python\n"
     ]
    }
   ],
   "source": [
    "!which python"
   ]
  },
  {
   "cell_type": "code",
   "execution_count": 2,
   "id": "25e70c39",
   "metadata": {},
   "outputs": [],
   "source": [
    "patient_dict = {\n",
    "  \"P001\": {\n",
    "    \"name\": \"Ananya Verma\",\n",
    "    \"city\": \"Guwahati\",\n",
    "    \"age\": 28,\n",
    "    \"gender\": \"female\",\n",
    "    \"height\": 1.65,\n",
    "    \"weight\": 90,\n",
    "    \"bmi\": 33.06,\n",
    "    \"verdict\": \"Obese\"\n",
    "  },\n",
    "  \"P002\": {\n",
    "    \"name\": \"Ravi Mehta\",\n",
    "    \"city\": \"Mumbai\",\n",
    "    \"age\": 35,\n",
    "    \"gender\": \"male\",\n",
    "    \"height\": 1.75,\n",
    "    \"weight\": 85,\n",
    "    \"bmi\": 27.76,\n",
    "    \"verdict\": \"Overweight\"\n",
    "  },\n",
    "  \"P003\": {\n",
    "    \"name\": \"Sneha Kulkarni\",\n",
    "    \"city\": \"Pune\",\n",
    "    \"age\": 22,\n",
    "    \"gender\": \"female\",\n",
    "    \"height\": 1.6,\n",
    "    \"weight\": 45,\n",
    "    \"bmi\": 17.58,\n",
    "    \"verdict\": \"Underweight\"\n",
    "  },\n",
    "  \"P004\": {\n",
    "    \"name\": \"Arjun Verma\",\n",
    "    \"city\": \"Mumbai\",\n",
    "    \"age\": 40,\n",
    "    \"gender\": \"male\",\n",
    "    \"height\": 1.8,\n",
    "    \"weight\": 90,\n",
    "    \"bmi\": 27.78,\n",
    "    \"verdict\": \"Normal\"\n",
    "  },\n",
    "  \"P005\": {\n",
    "    \"name\": \"Neha Sinha\",\n",
    "    \"city\": \"Kolkata\",\n",
    "    \"age\": 30,\n",
    "    \"gender\": \"female\",\n",
    "    \"height\": 1.55,\n",
    "    \"weight\": 75,\n",
    "    \"bmi\": 31.22,\n",
    "    \"verdict\": \"Obese\"\n",
    "  }\n",
    "}"
   ]
  },
  {
   "cell_type": "code",
   "execution_count": 9,
   "id": "48122d72",
   "metadata": {},
   "outputs": [
    {
     "data": {
      "text/plain": [
       "[{'name': 'Arjun Verma',\n",
       "  'city': 'Mumbai',\n",
       "  'age': 40,\n",
       "  'gender': 'male',\n",
       "  'height': 1.8,\n",
       "  'weight': 90,\n",
       "  'bmi': 27.78,\n",
       "  'verdict': 'Normal'},\n",
       " {'name': 'Ravi Mehta',\n",
       "  'city': 'Mumbai',\n",
       "  'age': 35,\n",
       "  'gender': 'male',\n",
       "  'height': 1.75,\n",
       "  'weight': 85,\n",
       "  'bmi': 27.76,\n",
       "  'verdict': 'Overweight'},\n",
       " {'name': 'Neha Sinha',\n",
       "  'city': 'Kolkata',\n",
       "  'age': 30,\n",
       "  'gender': 'female',\n",
       "  'height': 1.55,\n",
       "  'weight': 75,\n",
       "  'bmi': 31.22,\n",
       "  'verdict': 'Obese'},\n",
       " {'name': 'Ananya Verma',\n",
       "  'city': 'Guwahati',\n",
       "  'age': 28,\n",
       "  'gender': 'female',\n",
       "  'height': 1.65,\n",
       "  'weight': 90,\n",
       "  'bmi': 33.06,\n",
       "  'verdict': 'Obese'},\n",
       " {'name': 'Sneha Kulkarni',\n",
       "  'city': 'Pune',\n",
       "  'age': 22,\n",
       "  'gender': 'female',\n",
       "  'height': 1.6,\n",
       "  'weight': 45,\n",
       "  'bmi': 17.58,\n",
       "  'verdict': 'Underweight'}]"
      ]
     },
     "execution_count": 9,
     "metadata": {},
     "output_type": "execute_result"
    }
   ],
   "source": [
    "sorted(patient_dict.values(),key = lambda x:x.get('age',0),reverse=True)"
   ]
  },
  {
   "cell_type": "code",
   "execution_count": null,
   "id": "12e83b01",
   "metadata": {},
   "outputs": [],
   "source": []
  }
 ],
 "metadata": {
  "kernelspec": {
   "display_name": "venv",
   "language": "python",
   "name": "python3"
  },
  "language_info": {
   "codemirror_mode": {
    "name": "ipython",
    "version": 3
   },
   "file_extension": ".py",
   "mimetype": "text/x-python",
   "name": "python",
   "nbconvert_exporter": "python",
   "pygments_lexer": "ipython3",
   "version": "3.10.12"
  }
 },
 "nbformat": 4,
 "nbformat_minor": 5
}
